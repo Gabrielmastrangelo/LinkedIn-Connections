{
 "cells": [
  {
   "cell_type": "markdown",
   "metadata": {},
   "source": [
    "# Increasing my connections on LinkedIn\n",
    "\n",
    "One of my actual projects is to improve my LinkedIn webpage and my connections. </br>\n",
    "Two actions that can help me with that are, making new connections and producing content for my page. </br>\n",
    "Today, I am going to do both at the same time. I will create a script that will search for the professors of my University from the Departments from the departments that I am most interested, get their names and emails.\n",
    "\n",
    "### Always starting with the libraries"
   ]
  },
  {
   "cell_type": "code",
   "execution_count": 1,
   "metadata": {},
   "outputs": [],
   "source": [
    "#These first two will help me to do the web scrapping\n",
    "import requests\n",
    "from bs4 import BeautifulSoup\n",
    "\n",
    "#This one will help me to organize the data\n",
    "import pandas as pd"
   ]
  },
  {
   "cell_type": "markdown",
   "metadata": {},
   "source": [
    "### Getting the data from Areas of study\n",
    "\n",
    "First we will get the text of the web page with the htmls. After that we will use the BeautifulSoup library that will create an object that will parse the elements, making for us much easier to find out the info that we want."
   ]
  },
  {
   "cell_type": "code",
   "execution_count": 2,
   "metadata": {},
   "outputs": [],
   "source": [
    "#The html containing the Capilano areas of study \n",
    "html = 'https://www.capilanou.ca/programs--courses/search--select/explore-our-areas-of-study/'\n",
    "\n",
    "#Requesting the html data\n",
    "html_request = requests.get(html).text \n",
    "#Creating a object BeautifulSoup\n",
    "soup = BeautifulSoup(html_request, 'lxml')"
   ]
  },
  {
   "cell_type": "markdown",
   "metadata": {},
   "source": [
    "### Defining the main function\n",
    "I went to the page in my browser, and I looked up for the html attributes to use for searching the info that I wanted. For this will use the tool inspect in our browser. </br>**Obs**: I realized that we can create one function, that will work for getting the areas available, and to get the departments of this areas. So we can write less code"
   ]
  },
  {
   "cell_type": "code",
   "execution_count": 3,
   "metadata": {},
   "outputs": [],
   "source": [
    "def getContentBlocks(soup):\n",
    "    '''\n",
    "    This function based receives an input of a soup object\n",
    "    and returns the names of the areas/departments and their links\n",
    "    '''\n",
    "    \n",
    "    # Get all the divs (html element) with this class\n",
    "    divs_comp = soup.find_all(class_ = \"component-cta cta-multi-column component-section\")\n",
    "\n",
    "    #For all the divs that we have found, look for the links\n",
    "    links = []\n",
    "    areas = []\n",
    "    for div in divs_comp:\n",
    "        results = div.find_all('a')\n",
    "        if results != None:\n",
    "            for result in results:\n",
    "                #If they find the element\n",
    "                #We will save the addres and the area name\n",
    "                areas.append(result.text)\n",
    "                links.append(result)\n",
    "\n",
    "    links = [link.get('href') for link in links]\n",
    "    \n",
    "    return links, areas"
   ]
  },
  {
   "cell_type": "markdown",
   "metadata": {},
   "source": [
    "### Lets see the areas that we got\n",
    "So we run the function, with the bsoup object"
   ]
  },
  {
   "cell_type": "code",
   "execution_count": 4,
   "metadata": {},
   "outputs": [
    {
     "data": {
      "text/plain": [
       "['Study arts & sciences',\n",
       " 'Study Business',\n",
       " 'Study Education, Health & Human Development',\n",
       " 'Study fine & applied arts',\n",
       " 'Study Global & Community Studies']"
      ]
     },
     "execution_count": 4,
     "metadata": {},
     "output_type": "execute_result"
    }
   ],
   "source": [
    "# The function return the links and the names\n",
    "areas = getContentBlocks(soup)\n",
    "#Here we acess the names\n",
    "areas[1]"
   ]
  },
  {
   "cell_type": "markdown",
   "metadata": {},
   "source": [
    "From these, I am interested only in the first two, so let's select the links of this areas"
   ]
  },
  {
   "cell_type": "code",
   "execution_count": 5,
   "metadata": {},
   "outputs": [
    {
     "data": {
      "text/plain": [
       "['/programs--courses/search--select/explore-our-areas-of-study/arts--sciences/',\n",
       " '/programs--courses/search--select/explore-our-areas-of-study/business--professional-studies/']"
      ]
     },
     "execution_count": 5,
     "metadata": {},
     "output_type": "execute_result"
    }
   ],
   "source": [
    "#Nothe that the names are at the [1], and the links at the [0]\n",
    "myLinks = areas[0][:2]\n",
    "myLinks"
   ]
  },
  {
   "cell_type": "markdown",
   "metadata": {},
   "source": [
    "### Acessing the Schools\n",
    "This function gets the link that we collected and use that to search the new pages"
   ]
  },
  {
   "cell_type": "code",
   "execution_count": 6,
   "metadata": {},
   "outputs": [],
   "source": [
    "def getLink(link):\n",
    "    '''\n",
    "    This function receives an address, and it return the bs\n",
    "    '''\n",
    "    start = \"https://www.capilanou.ca/\"    \n",
    "    \n",
    "    html_request = requests.get(start + link).text \n",
    "    soup = BeautifulSoup(html_request, 'lxml')\n",
    "    \n",
    "    return soup"
   ]
  },
  {
   "cell_type": "markdown",
   "metadata": {},
   "source": [
    "### Using a for loop to interate between all the areas\n",
    "Here we will enjoy the functions that we have created to use them in a foor loop, that will repeat the same process for all the areas and departments"
   ]
  },
  {
   "cell_type": "code",
   "execution_count": 7,
   "metadata": {},
   "outputs": [],
   "source": [
    "links = []\n",
    "names = []\n",
    "for link in myLinks:\n",
    "    #For each link in myLinks, we will access their websites and store the page content\n",
    "    pageContent = getLink(link)\n",
    "    #We save the result here\n",
    "    result = getContentBlocks(pageContent)\n",
    "    #And we split the data in two lists\n",
    "    links.extend(result[0],)\n",
    "    names.extend(result[1]) "
   ]
  },
  {
   "cell_type": "markdown",
   "metadata": {},
   "source": [
    "### Let's see the results\n",
    "\n",
    "I created a data frame to show the results in a better way"
   ]
  },
  {
   "cell_type": "code",
   "execution_count": 8,
   "metadata": {},
   "outputs": [
    {
     "data": {
      "text/html": [
       "<div>\n",
       "<style scoped>\n",
       "    .dataframe tbody tr th:only-of-type {\n",
       "        vertical-align: middle;\n",
       "    }\n",
       "\n",
       "    .dataframe tbody tr th {\n",
       "        vertical-align: top;\n",
       "    }\n",
       "\n",
       "    .dataframe thead th {\n",
       "        text-align: right;\n",
       "    }\n",
       "</style>\n",
       "<table border=\"1\" class=\"dataframe\">\n",
       "  <thead>\n",
       "    <tr style=\"text-align: right;\">\n",
       "      <th></th>\n",
       "      <th>Links</th>\n",
       "    </tr>\n",
       "  </thead>\n",
       "  <tbody>\n",
       "    <tr>\n",
       "      <th>Study Humanities at CapU</th>\n",
       "      <td>/programs--courses/search--select/explore-our-...</td>\n",
       "    </tr>\n",
       "    <tr>\n",
       "      <th>Study STEM at CapU</th>\n",
       "      <td>/programs--courses/search--select/explore-our-...</td>\n",
       "    </tr>\n",
       "    <tr>\n",
       "      <th>Study Social Sciences at CapU</th>\n",
       "      <td>/programs--courses/search--select/explore-our-...</td>\n",
       "    </tr>\n",
       "    <tr>\n",
       "      <th>Study Business at CapU</th>\n",
       "      <td>/programs--courses/search--select/explore-our-...</td>\n",
       "    </tr>\n",
       "    <tr>\n",
       "      <th>Study Communication at CapU</th>\n",
       "      <td>/programs--courses/search--select/explore-our-...</td>\n",
       "    </tr>\n",
       "    <tr>\n",
       "      <th>Study Legal Studies at CapU</th>\n",
       "      <td>/programs--courses/search--select/explore-our-...</td>\n",
       "    </tr>\n",
       "  </tbody>\n",
       "</table>\n",
       "</div>"
      ],
      "text/plain": [
       "                                                                           Links\n",
       "Study Humanities at CapU       /programs--courses/search--select/explore-our-...\n",
       "Study STEM at CapU             /programs--courses/search--select/explore-our-...\n",
       "Study Social Sciences at CapU  /programs--courses/search--select/explore-our-...\n",
       "Study Business at CapU         /programs--courses/search--select/explore-our-...\n",
       "Study Communication at CapU    /programs--courses/search--select/explore-our-...\n",
       "Study Legal Studies at CapU    /programs--courses/search--select/explore-our-..."
      ]
     },
     "execution_count": 8,
     "metadata": {},
     "output_type": "execute_result"
    }
   ],
   "source": [
    "data = pd.DataFrame({\n",
    "    \"Links\" : links\n",
    "}, index = names)\n",
    "data"
   ]
  },
  {
   "cell_type": "markdown",
   "metadata": {},
   "source": [
    "### Improving the names of the Schools"
   ]
  },
  {
   "cell_type": "code",
   "execution_count": 9,
   "metadata": {},
   "outputs": [
    {
     "data": {
      "text/html": [
       "<div>\n",
       "<style scoped>\n",
       "    .dataframe tbody tr th:only-of-type {\n",
       "        vertical-align: middle;\n",
       "    }\n",
       "\n",
       "    .dataframe tbody tr th {\n",
       "        vertical-align: top;\n",
       "    }\n",
       "\n",
       "    .dataframe thead th {\n",
       "        text-align: right;\n",
       "    }\n",
       "</style>\n",
       "<table border=\"1\" class=\"dataframe\">\n",
       "  <thead>\n",
       "    <tr style=\"text-align: right;\">\n",
       "      <th></th>\n",
       "      <th>Links</th>\n",
       "    </tr>\n",
       "  </thead>\n",
       "  <tbody>\n",
       "    <tr>\n",
       "      <th>Humanities</th>\n",
       "      <td>/programs--courses/search--select/explore-our-...</td>\n",
       "    </tr>\n",
       "    <tr>\n",
       "      <th>STEM</th>\n",
       "      <td>/programs--courses/search--select/explore-our-...</td>\n",
       "    </tr>\n",
       "    <tr>\n",
       "      <th>Social Sciences</th>\n",
       "      <td>/programs--courses/search--select/explore-our-...</td>\n",
       "    </tr>\n",
       "    <tr>\n",
       "      <th>Business</th>\n",
       "      <td>/programs--courses/search--select/explore-our-...</td>\n",
       "    </tr>\n",
       "    <tr>\n",
       "      <th>Communication</th>\n",
       "      <td>/programs--courses/search--select/explore-our-...</td>\n",
       "    </tr>\n",
       "    <tr>\n",
       "      <th>Legal Studies</th>\n",
       "      <td>/programs--courses/search--select/explore-our-...</td>\n",
       "    </tr>\n",
       "  </tbody>\n",
       "</table>\n",
       "</div>"
      ],
      "text/plain": [
       "                                                             Links\n",
       "Humanities       /programs--courses/search--select/explore-our-...\n",
       "STEM             /programs--courses/search--select/explore-our-...\n",
       "Social Sciences  /programs--courses/search--select/explore-our-...\n",
       "Business         /programs--courses/search--select/explore-our-...\n",
       "Communication    /programs--courses/search--select/explore-our-...\n",
       "Legal Studies    /programs--courses/search--select/explore-our-..."
      ]
     },
     "execution_count": 9,
     "metadata": {},
     "output_type": "execute_result"
    }
   ],
   "source": [
    "index = [' '.join(name.split()[1:-2]) for name in names]\n",
    "\n",
    "data.index = index\n",
    "data"
   ]
  },
  {
   "cell_type": "markdown",
   "metadata": {},
   "source": [
    "### Separating the ones that I am interested\n",
    "\n",
    "I am interested in Social Sciences (Economics), STEM and Business"
   ]
  },
  {
   "cell_type": "code",
   "execution_count": 10,
   "metadata": {},
   "outputs": [
    {
     "data": {
      "text/plain": [
       "['/programs--courses/search--select/explore-our-areas-of-study/arts--sciences/school-of-science-technology-engineering--mathematics-stem/',\n",
       " '/programs--courses/search--select/explore-our-areas-of-study/arts--sciences/school-of-social-sciences/',\n",
       " '/programs--courses/search--select/explore-our-areas-of-study/business--professional-studies/school-of-business/']"
      ]
     },
     "execution_count": 10,
     "metadata": {},
     "output_type": "execute_result"
    }
   ],
   "source": [
    "schoolLinks = links[1:4]\n",
    "schoolLinks"
   ]
  },
  {
   "cell_type": "markdown",
   "metadata": {},
   "source": [
    "## Diving into the Departments\n",
    "\n",
    "Here we will divide into 2 approaches, because the way that the STEM and Social Sciences web pages are organized differ from the Business website.\n",
    "\n",
    "### Working with the Arts and Sciences part\n",
    "\n",
    "The web pages are not exactly te same for both schools, but there is a way for us to generalize"
   ]
  },
  {
   "cell_type": "code",
   "execution_count": 11,
   "metadata": {},
   "outputs": [
    {
     "data": {
      "text/plain": [
       "['Biology',\n",
       " 'Chemistry',\n",
       " 'Computing & Data Science',\n",
       " 'Engineering',\n",
       " 'Mathematics & Statistics',\n",
       " 'Physics',\n",
       " 'Anthropology',\n",
       " 'Applied Behaviour Analysis (Autism)',\n",
       " 'Criminology',\n",
       " 'Economics',\n",
       " 'Geography',\n",
       " 'Political Science',\n",
       " 'Psychology',\n",
       " 'Sociology',\n",
       " 'Women’s & Gender Studies']"
      ]
     },
     "execution_count": 11,
     "metadata": {},
     "output_type": "execute_result"
    }
   ],
   "source": [
    "names = []\n",
    "links = []\n",
    "for link in schoolLinks[:2]:\n",
    "    page = getLink(link)\n",
    "    mainDiv = page.find(id = \"tab-courses\")\n",
    "    for address in mainDiv.find_all('a'):\n",
    "        #Get the text and stores here\n",
    "        text = address.text\n",
    "        if text.find(\"Department\") != None:\n",
    "            #If the text has department in it, we will remove it\n",
    "            text = text.replace(\" Department\",\"\")\n",
    "        names.append(text)\n",
    "        links.append(address.get('href'))\n",
    "        \n",
    "names"
   ]
  },
  {
   "cell_type": "markdown",
   "metadata": {},
   "source": [
    "### Getting the professors and instructors info\n",
    "\n",
    "Here we join the departments from the STEM and Social Science and the Business.\n",
    "</br> We can use the same code for searching in them. </br>"
   ]
  },
  {
   "cell_type": "code",
   "execution_count": 12,
   "metadata": {},
   "outputs": [],
   "source": [
    "depart_names = names[1:6] + [names[9]] + ['Business']\n",
    "depart_links = links[1:6] + [links[9]] + [schoolLinks[-1]] #This last one is the business link"
   ]
  },
  {
   "cell_type": "code",
   "execution_count": 13,
   "metadata": {},
   "outputs": [],
   "source": [
    "prof_name = []\n",
    "prof_email = []\n",
    "prof_depart = []\n",
    "prof_profiles = []\n",
    "for link in depart_links:\n",
    "    #This is to save the department name\n",
    "    index = depart_links.index(link)\n",
    "    department = depart_names[index]\n",
    "    #Searching into the webpages\n",
    "    page = getLink(link)\n",
    "    div = page.find(id = 'tab-instructors')\n",
    "    results = div.find_all( class_ = \"alert-content\")\n",
    "    profiles = div.find_all( target = \"_blank\")\n",
    "    for result in results:\n",
    "        #Here we save the name, the email, and the department\n",
    "        prof_name.append(result.h5.text)\n",
    "        prof_email.append(result.a.get('href').replace('mailto:',\"\"))\n",
    "        prof_depart.append(department)    \n",
    "    for profile in profiles:\n",
    "        #Here we get the page for the professors that have a profile\n",
    "        prof_profiles.append(profile.get('href'))"
   ]
  },
  {
   "cell_type": "markdown",
   "metadata": {},
   "source": [
    "### Creating a DataFrame with the Results"
   ]
  },
  {
   "cell_type": "code",
   "execution_count": 14,
   "metadata": {},
   "outputs": [
    {
     "data": {
      "text/html": [
       "<div>\n",
       "<style scoped>\n",
       "    .dataframe tbody tr th:only-of-type {\n",
       "        vertical-align: middle;\n",
       "    }\n",
       "\n",
       "    .dataframe tbody tr th {\n",
       "        vertical-align: top;\n",
       "    }\n",
       "\n",
       "    .dataframe thead th {\n",
       "        text-align: right;\n",
       "    }\n",
       "</style>\n",
       "<table border=\"1\" class=\"dataframe\">\n",
       "  <thead>\n",
       "    <tr style=\"text-align: right;\">\n",
       "      <th></th>\n",
       "      <th>Name</th>\n",
       "      <th>Email</th>\n",
       "    </tr>\n",
       "  </thead>\n",
       "  <tbody>\n",
       "    <tr>\n",
       "      <th>Chemistry</th>\n",
       "      <td>Angela Yee</td>\n",
       "      <td>ayee@capilanou.ca</td>\n",
       "    </tr>\n",
       "    <tr>\n",
       "      <th>Chemistry</th>\n",
       "      <td>Dan Fediw</td>\n",
       "      <td>dfediw@capilanou.ca</td>\n",
       "    </tr>\n",
       "    <tr>\n",
       "      <th>Chemistry</th>\n",
       "      <td>Mark Vaughan B.Sc. (Hons), PhD</td>\n",
       "      <td>mvaugha2@capilanou.ca</td>\n",
       "    </tr>\n",
       "    <tr>\n",
       "      <th>Chemistry</th>\n",
       "      <td>Matt Berry</td>\n",
       "      <td>matthewberry@capilanou.ca</td>\n",
       "    </tr>\n",
       "    <tr>\n",
       "      <th>Chemistry</th>\n",
       "      <td>Matthew Le Page B.Sc. (Hons), PhD</td>\n",
       "      <td>mlepage@capilanou.ca</td>\n",
       "    </tr>\n",
       "    <tr>\n",
       "      <th>...</th>\n",
       "      <td>...</td>\n",
       "      <td>...</td>\n",
       "    </tr>\n",
       "    <tr>\n",
       "      <th>Business</th>\n",
       "      <td>Tammy Towill FCPA, FCMA, MBA, MA (in progress)</td>\n",
       "      <td>ttowill@capilanou.ca</td>\n",
       "    </tr>\n",
       "    <tr>\n",
       "      <th>Business</th>\n",
       "      <td>Todd Newfield B.Comm., M.Sc. JBS, JMP</td>\n",
       "      <td>tnewfiel@capilanou.ca</td>\n",
       "    </tr>\n",
       "    <tr>\n",
       "      <th>Business</th>\n",
       "      <td>Tracey Chang</td>\n",
       "      <td>traceychang2@capilanou.ca</td>\n",
       "    </tr>\n",
       "    <tr>\n",
       "      <th>Business</th>\n",
       "      <td>Victor Law</td>\n",
       "      <td>victorlaw@capilanou.ca</td>\n",
       "    </tr>\n",
       "    <tr>\n",
       "      <th>Business</th>\n",
       "      <td>Vnit Nath</td>\n",
       "      <td>vnitnath@capilanou.ca</td>\n",
       "    </tr>\n",
       "  </tbody>\n",
       "</table>\n",
       "<p>127 rows × 2 columns</p>\n",
       "</div>"
      ],
      "text/plain": [
       "                                                     Name  \\\n",
       "Chemistry                                      Angela Yee   \n",
       "Chemistry                                       Dan Fediw   \n",
       "Chemistry                  Mark Vaughan B.Sc. (Hons), PhD   \n",
       "Chemistry                                      Matt Berry   \n",
       "Chemistry               Matthew Le Page B.Sc. (Hons), PhD   \n",
       "...                                                   ...   \n",
       "Business   Tammy Towill FCPA, FCMA, MBA, MA (in progress)   \n",
       "Business            Todd Newfield B.Comm., M.Sc. JBS, JMP   \n",
       "Business                                     Tracey Chang   \n",
       "Business                                       Victor Law   \n",
       "Business                                        Vnit Nath   \n",
       "\n",
       "                               Email  \n",
       "Chemistry          ayee@capilanou.ca  \n",
       "Chemistry        dfediw@capilanou.ca  \n",
       "Chemistry      mvaugha2@capilanou.ca  \n",
       "Chemistry  matthewberry@capilanou.ca  \n",
       "Chemistry       mlepage@capilanou.ca  \n",
       "...                              ...  \n",
       "Business        ttowill@capilanou.ca  \n",
       "Business       tnewfiel@capilanou.ca  \n",
       "Business   traceychang2@capilanou.ca  \n",
       "Business      victorlaw@capilanou.ca  \n",
       "Business       vnitnath@capilanou.ca  \n",
       "\n",
       "[127 rows x 2 columns]"
      ]
     },
     "execution_count": 14,
     "metadata": {},
     "output_type": "execute_result"
    }
   ],
   "source": [
    "data = pd.DataFrame({\n",
    "    \"Name\" : prof_name,\n",
    "    \"Email\" : prof_email\n",
    "}, index = prof_depart)\n",
    "data"
   ]
  },
  {
   "cell_type": "markdown",
   "metadata": {},
   "source": [
    "Creating a txt file with the emails. </br>\n",
    "Then I will just need to copy and paste when writting the email for the professors."
   ]
  },
  {
   "cell_type": "code",
   "execution_count": 15,
   "metadata": {},
   "outputs": [],
   "source": [
    "with open('prof_emails', 'w') as file:\n",
    "    content = ', '.join(list(data.Email.values))\n",
    "    conteudo = file.write(content)"
   ]
  },
  {
   "cell_type": "markdown",
   "metadata": {},
   "source": [
    "### Final Steps\n",
    "\n",
    "Now I will publish this script in my GitHub, then I will publicate a post on my LinkedIn web page explaining briefly about this project. The last step is sending an email for all this professors, talking a little about myself and my study interests, with the link for the LinkedIn publication, and for the GitHub repository with the Python Script that made all this possible."
   ]
  }
 ],
 "metadata": {
  "kernelspec": {
   "display_name": "Python 3",
   "language": "python",
   "name": "python3"
  },
  "language_info": {
   "codemirror_mode": {
    "name": "ipython",
    "version": 3
   },
   "file_extension": ".py",
   "mimetype": "text/x-python",
   "name": "python",
   "nbconvert_exporter": "python",
   "pygments_lexer": "ipython3",
   "version": "3.8.5"
  }
 },
 "nbformat": 4,
 "nbformat_minor": 4
}
